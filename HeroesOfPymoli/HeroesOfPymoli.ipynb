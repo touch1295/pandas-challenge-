{
 "cells": [
  {
   "cell_type": "markdown",
   "metadata": {},
   "source": [
    "### Note\n",
    "* Instructions have been included for each segment. You do not have to follow them exactly, but they are included to help you think through the steps."
   ]
  },
  {
   "cell_type": "code",
   "execution_count": 1,
   "metadata": {},
   "outputs": [
    {
     "data": {
      "text/html": [
       "<div>\n",
       "<style scoped>\n",
       "    .dataframe tbody tr th:only-of-type {\n",
       "        vertical-align: middle;\n",
       "    }\n",
       "\n",
       "    .dataframe tbody tr th {\n",
       "        vertical-align: top;\n",
       "    }\n",
       "\n",
       "    .dataframe thead th {\n",
       "        text-align: right;\n",
       "    }\n",
       "</style>\n",
       "<table border=\"1\" class=\"dataframe\">\n",
       "  <thead>\n",
       "    <tr style=\"text-align: right;\">\n",
       "      <th></th>\n",
       "      <th>Purchase ID</th>\n",
       "      <th>SN</th>\n",
       "      <th>Age</th>\n",
       "      <th>Gender</th>\n",
       "      <th>Item ID</th>\n",
       "      <th>Item Name</th>\n",
       "      <th>Price</th>\n",
       "    </tr>\n",
       "  </thead>\n",
       "  <tbody>\n",
       "    <tr>\n",
       "      <th>0</th>\n",
       "      <td>0</td>\n",
       "      <td>Lisim78</td>\n",
       "      <td>20</td>\n",
       "      <td>Male</td>\n",
       "      <td>108</td>\n",
       "      <td>Extraction, Quickblade Of Trembling Hands</td>\n",
       "      <td>3.53</td>\n",
       "    </tr>\n",
       "    <tr>\n",
       "      <th>1</th>\n",
       "      <td>1</td>\n",
       "      <td>Lisovynya38</td>\n",
       "      <td>40</td>\n",
       "      <td>Male</td>\n",
       "      <td>143</td>\n",
       "      <td>Frenzied Scimitar</td>\n",
       "      <td>1.56</td>\n",
       "    </tr>\n",
       "    <tr>\n",
       "      <th>2</th>\n",
       "      <td>2</td>\n",
       "      <td>Ithergue48</td>\n",
       "      <td>24</td>\n",
       "      <td>Male</td>\n",
       "      <td>92</td>\n",
       "      <td>Final Critic</td>\n",
       "      <td>4.88</td>\n",
       "    </tr>\n",
       "    <tr>\n",
       "      <th>3</th>\n",
       "      <td>3</td>\n",
       "      <td>Chamassasya86</td>\n",
       "      <td>24</td>\n",
       "      <td>Male</td>\n",
       "      <td>100</td>\n",
       "      <td>Blindscythe</td>\n",
       "      <td>3.27</td>\n",
       "    </tr>\n",
       "    <tr>\n",
       "      <th>4</th>\n",
       "      <td>4</td>\n",
       "      <td>Iskosia90</td>\n",
       "      <td>23</td>\n",
       "      <td>Male</td>\n",
       "      <td>131</td>\n",
       "      <td>Fury</td>\n",
       "      <td>1.44</td>\n",
       "    </tr>\n",
       "    <tr>\n",
       "      <th>5</th>\n",
       "      <td>5</td>\n",
       "      <td>Yalae81</td>\n",
       "      <td>22</td>\n",
       "      <td>Male</td>\n",
       "      <td>81</td>\n",
       "      <td>Dreamkiss</td>\n",
       "      <td>3.61</td>\n",
       "    </tr>\n",
       "    <tr>\n",
       "      <th>6</th>\n",
       "      <td>6</td>\n",
       "      <td>Itheria73</td>\n",
       "      <td>36</td>\n",
       "      <td>Male</td>\n",
       "      <td>169</td>\n",
       "      <td>Interrogator, Blood Blade of the Queen</td>\n",
       "      <td>2.18</td>\n",
       "    </tr>\n",
       "    <tr>\n",
       "      <th>7</th>\n",
       "      <td>7</td>\n",
       "      <td>Iskjaskst81</td>\n",
       "      <td>20</td>\n",
       "      <td>Male</td>\n",
       "      <td>162</td>\n",
       "      <td>Abyssal Shard</td>\n",
       "      <td>2.67</td>\n",
       "    </tr>\n",
       "    <tr>\n",
       "      <th>8</th>\n",
       "      <td>8</td>\n",
       "      <td>Undjask33</td>\n",
       "      <td>22</td>\n",
       "      <td>Male</td>\n",
       "      <td>21</td>\n",
       "      <td>Souleater</td>\n",
       "      <td>1.10</td>\n",
       "    </tr>\n",
       "    <tr>\n",
       "      <th>9</th>\n",
       "      <td>9</td>\n",
       "      <td>Chanosian48</td>\n",
       "      <td>35</td>\n",
       "      <td>Other / Non-Disclosed</td>\n",
       "      <td>136</td>\n",
       "      <td>Ghastly Adamantite Protector</td>\n",
       "      <td>3.58</td>\n",
       "    </tr>\n",
       "    <tr>\n",
       "      <th>10</th>\n",
       "      <td>10</td>\n",
       "      <td>Inguron55</td>\n",
       "      <td>23</td>\n",
       "      <td>Male</td>\n",
       "      <td>95</td>\n",
       "      <td>Singed Onyx Warscythe</td>\n",
       "      <td>4.74</td>\n",
       "    </tr>\n",
       "  </tbody>\n",
       "</table>\n",
       "</div>"
      ],
      "text/plain": [
       "    Purchase ID             SN  Age                 Gender  Item ID  \\\n",
       "0             0        Lisim78   20                   Male      108   \n",
       "1             1    Lisovynya38   40                   Male      143   \n",
       "2             2     Ithergue48   24                   Male       92   \n",
       "3             3  Chamassasya86   24                   Male      100   \n",
       "4             4      Iskosia90   23                   Male      131   \n",
       "5             5        Yalae81   22                   Male       81   \n",
       "6             6      Itheria73   36                   Male      169   \n",
       "7             7    Iskjaskst81   20                   Male      162   \n",
       "8             8      Undjask33   22                   Male       21   \n",
       "9             9    Chanosian48   35  Other / Non-Disclosed      136   \n",
       "10           10      Inguron55   23                   Male       95   \n",
       "\n",
       "                                    Item Name  Price  \n",
       "0   Extraction, Quickblade Of Trembling Hands   3.53  \n",
       "1                           Frenzied Scimitar   1.56  \n",
       "2                                Final Critic   4.88  \n",
       "3                                 Blindscythe   3.27  \n",
       "4                                        Fury   1.44  \n",
       "5                                   Dreamkiss   3.61  \n",
       "6      Interrogator, Blood Blade of the Queen   2.18  \n",
       "7                               Abyssal Shard   2.67  \n",
       "8                                   Souleater   1.10  \n",
       "9                Ghastly Adamantite Protector   3.58  \n",
       "10                      Singed Onyx Warscythe   4.74  "
      ]
     },
     "execution_count": 1,
     "metadata": {},
     "output_type": "execute_result"
    }
   ],
   "source": [
    "# Dependencies and Setup\n",
    "import pandas as pd\n",
    "\n",
    "# File to Load (Remember to Change These)\n",
    "file_to_load = \"Resources/purchase_data.csv\"\n",
    "\n",
    "# Read Purchasing File and store into Pandas data frame\n",
    "purchase_data = pd.read_csv(file_to_load)\n",
    "purchase_data.head(11)"
   ]
  },
  {
   "cell_type": "markdown",
   "metadata": {},
   "source": [
    "## Player Count"
   ]
  },
  {
   "cell_type": "markdown",
   "metadata": {},
   "source": [
    "* Display the total number of players\n"
   ]
  },
  {
   "cell_type": "code",
   "execution_count": 3,
   "metadata": {},
   "outputs": [
    {
     "data": {
      "text/html": [
       "<div>\n",
       "<style scoped>\n",
       "    .dataframe tbody tr th:only-of-type {\n",
       "        vertical-align: middle;\n",
       "    }\n",
       "\n",
       "    .dataframe tbody tr th {\n",
       "        vertical-align: top;\n",
       "    }\n",
       "\n",
       "    .dataframe thead th {\n",
       "        text-align: right;\n",
       "    }\n",
       "</style>\n",
       "<table border=\"1\" class=\"dataframe\">\n",
       "  <thead>\n",
       "    <tr style=\"text-align: right;\">\n",
       "      <th></th>\n",
       "      <th>Total Players</th>\n",
       "    </tr>\n",
       "  </thead>\n",
       "  <tbody>\n",
       "    <tr>\n",
       "      <th>0</th>\n",
       "      <td>576</td>\n",
       "    </tr>\n",
       "  </tbody>\n",
       "</table>\n",
       "</div>"
      ],
      "text/plain": [
       "   Total Players\n",
       "0            576"
      ]
     },
     "execution_count": 3,
     "metadata": {},
     "output_type": "execute_result"
    }
   ],
   "source": [
    "#Showing Total Number of Players by using the lenth of SN\n",
    "total_number_of_player = len(purchase_data [\"SN\"].value_counts())\n",
    "Sum_Players = pd.DataFrame({\"Total Players\": [total_number_of_player]})\n",
    "Sum_Players"
   ]
  },
  {
   "cell_type": "markdown",
   "metadata": {},
   "source": [
    "## Purchasing Analysis (Total)"
   ]
  },
  {
   "cell_type": "markdown",
   "metadata": {},
   "source": [
    "* Run basic calculations to obtain number of unique items, average price, etc.\n",
    "\n",
    "\n",
    "* Create a summary data frame to hold the results\n",
    "\n",
    "\n",
    "* Optional: give the displayed data cleaner formatting\n",
    "\n",
    "\n",
    "* Display the summary data frame\n"
   ]
  },
  {
   "cell_type": "code",
   "execution_count": 5,
   "metadata": {
    "scrolled": true
   },
   "outputs": [
    {
     "data": {
      "text/html": [
       "<style  type=\"text/css\" >\n",
       "</style><table id=\"T_39d4e822_e998_11ea_bc96_38f9d35fccf1\" ><thead>    <tr>        <th class=\"blank level0\" ></th>        <th class=\"col_heading level0 col0\" >Number of Unique Items</th>        <th class=\"col_heading level0 col1\" >Average Price</th>        <th class=\"col_heading level0 col2\" >Number of Purchases</th>        <th class=\"col_heading level0 col3\" >Total Revenue</th>    </tr></thead><tbody>\n",
       "                <tr>\n",
       "                        <th id=\"T_39d4e822_e998_11ea_bc96_38f9d35fccf1level0_row0\" class=\"row_heading level0 row0\" >0</th>\n",
       "                        <td id=\"T_39d4e822_e998_11ea_bc96_38f9d35fccf1row0_col0\" class=\"data row0 col0\" >179</td>\n",
       "                        <td id=\"T_39d4e822_e998_11ea_bc96_38f9d35fccf1row0_col1\" class=\"data row0 col1\" >$3.05</td>\n",
       "                        <td id=\"T_39d4e822_e998_11ea_bc96_38f9d35fccf1row0_col2\" class=\"data row0 col2\" >780</td>\n",
       "                        <td id=\"T_39d4e822_e998_11ea_bc96_38f9d35fccf1row0_col3\" class=\"data row0 col3\" >$2,379.77</td>\n",
       "            </tr>\n",
       "    </tbody></table>"
      ],
      "text/plain": [
       "<pandas.io.formats.style.Styler at 0x7fa0473b20d0>"
      ]
     },
     "execution_count": 5,
     "metadata": {},
     "output_type": "execute_result"
    }
   ],
   "source": [
    "#* Number of Unique Items\n",
    "#* Average Price\n",
    "#* Total Number of Purchases\n",
    "#* Total Revenue\n",
    "\n",
    "\n",
    "#* Number of Unique Items\n",
    "number_of_unique_items = len((purchase_data[\"Item ID\"]).unique())\n",
    "\n",
    "#* Average Purchase Price\n",
    "Average_Purchase_Item = (purchase_data[\"Price\"]).mean()\n",
    "\n",
    "#* Total Number of Purchases\n",
    "Total_Number_of_Purchase = (purchase_data[\"Purchase ID\"]).count()\n",
    "\n",
    "\n",
    "#Total Revenue\n",
    "total_revenue = (purchase_data[\"Price\"]).sum()\n",
    "\n",
    "\n",
    "# using data frame to get the summary of all\n",
    "summary = pd.DataFrame({\"Number of Unique Items\":[number_of_unique_items],\"Average Price\":[Average_Purchase_Item],\"Number of Purchases\": [Total_Number_of_Purchase],\"Total Revenue\": [total_revenue]})\n",
    "\n",
    "# Format with currency with dollar sign 2 decimal\n",
    "summary.style.format({'Average Price':\"${:,.2f}\",'Total Revenue': '${:,.2f}'})\n",
    "\n"
   ]
  },
  {
   "cell_type": "markdown",
   "metadata": {},
   "source": [
    "## Gender Demographics"
   ]
  },
  {
   "cell_type": "markdown",
   "metadata": {},
   "source": [
    "* Percentage and Count of Male Players\n",
    "\n",
    "\n",
    "* Percentage and Count of Female Players\n",
    "\n",
    "\n",
    "* Percentage and Count of Other / Non-Disclosed\n",
    "\n",
    "\n"
   ]
  },
  {
   "cell_type": "code",
   "execution_count": 6,
   "metadata": {},
   "outputs": [
    {
     "data": {
      "text/html": [
       "<style  type=\"text/css\" >\n",
       "</style><table id=\"T_8ddf6e24_e998_11ea_bc96_38f9d35fccf1\" ><thead>    <tr>        <th class=\"blank level0\" ></th>        <th class=\"col_heading level0 col0\" >Total Count</th>        <th class=\"col_heading level0 col1\" >Percentage of Players</th>    </tr></thead><tbody>\n",
       "                <tr>\n",
       "                        <th id=\"T_8ddf6e24_e998_11ea_bc96_38f9d35fccf1level0_row0\" class=\"row_heading level0 row0\" >Male</th>\n",
       "                        <td id=\"T_8ddf6e24_e998_11ea_bc96_38f9d35fccf1row0_col0\" class=\"data row0 col0\" >484</td>\n",
       "                        <td id=\"T_8ddf6e24_e998_11ea_bc96_38f9d35fccf1row0_col1\" class=\"data row0 col1\" >84.03%</td>\n",
       "            </tr>\n",
       "            <tr>\n",
       "                        <th id=\"T_8ddf6e24_e998_11ea_bc96_38f9d35fccf1level0_row1\" class=\"row_heading level0 row1\" >Female</th>\n",
       "                        <td id=\"T_8ddf6e24_e998_11ea_bc96_38f9d35fccf1row1_col0\" class=\"data row1 col0\" >81</td>\n",
       "                        <td id=\"T_8ddf6e24_e998_11ea_bc96_38f9d35fccf1row1_col1\" class=\"data row1 col1\" >14.06%</td>\n",
       "            </tr>\n",
       "            <tr>\n",
       "                        <th id=\"T_8ddf6e24_e998_11ea_bc96_38f9d35fccf1level0_row2\" class=\"row_heading level0 row2\" >Other / Non-Disclosed</th>\n",
       "                        <td id=\"T_8ddf6e24_e998_11ea_bc96_38f9d35fccf1row2_col0\" class=\"data row2 col0\" >11</td>\n",
       "                        <td id=\"T_8ddf6e24_e998_11ea_bc96_38f9d35fccf1row2_col1\" class=\"data row2 col1\" >1.91%</td>\n",
       "            </tr>\n",
       "    </tbody></table>"
      ],
      "text/plain": [
       "<pandas.io.formats.style.Styler at 0x7fa04644a370>"
      ]
     },
     "execution_count": 6,
     "metadata": {},
     "output_type": "execute_result"
    }
   ],
   "source": [
    "# Purchasing Analysis by Gender(Male, Female,Other/Non-Disclosed)\n",
    "demographics = purchase_data.groupby(\"Gender\")\n",
    "demographics_count_gender = demographics.nunique()[\"SN\"]\n",
    "\n",
    "# demographics by gender and divivde by total players \n",
    "percentage_players = demographics_count_gender / total_number_of_player * 100\n",
    "\n",
    "# Using Data Frame\n",
    "demographics_gender = pd.DataFrame({\"Total Count\": demographics_count_gender, \"Percentage of Players\": percentage_players})\n",
    "\n",
    "\n",
    "demographics_gender.index.name = None\n",
    "# Format with currency with dollar sign 2 decimal\n",
    "demographics_gender.sort_values([\"Total Count\"], ascending = False).style.format({\"Percentage of Players\":\"{:.2f}%\"})"
   ]
  },
  {
   "cell_type": "markdown",
   "metadata": {},
   "source": [
    "\n",
    "## Purchasing Analysis (Gender)"
   ]
  },
  {
   "cell_type": "markdown",
   "metadata": {},
   "source": [
    "* Run basic calculations to obtain purchase count, avg. purchase price, avg. purchase total per person etc. by gender\n",
    "\n",
    "\n",
    "\n",
    "\n",
    "* Create a summary data frame to hold the results\n",
    "\n",
    "\n",
    "* Optional: give the displayed data cleaner formatting\n",
    "\n",
    "\n",
    "* Display the summary data frame"
   ]
  },
  {
   "cell_type": "code",
   "execution_count": 7,
   "metadata": {},
   "outputs": [
    {
     "data": {
      "text/html": [
       "<style  type=\"text/css\" >\n",
       "</style><table id=\"T_b103d94e_e998_11ea_bc96_38f9d35fccf1\" ><thead>    <tr>        <th class=\"blank level0\" ></th>        <th class=\"col_heading level0 col0\" >Purchase Count</th>        <th class=\"col_heading level0 col1\" >Average Purchase Price</th>        <th class=\"col_heading level0 col2\" >Average Purchase Value</th>        <th class=\"col_heading level0 col3\" >Avg Purchase Total per Person</th>    </tr>    <tr>        <th class=\"index_name level0\" >Gender</th>        <th class=\"blank\" ></th>        <th class=\"blank\" ></th>        <th class=\"blank\" ></th>        <th class=\"blank\" ></th>    </tr></thead><tbody>\n",
       "                <tr>\n",
       "                        <th id=\"T_b103d94e_e998_11ea_bc96_38f9d35fccf1level0_row0\" class=\"row_heading level0 row0\" >Female</th>\n",
       "                        <td id=\"T_b103d94e_e998_11ea_bc96_38f9d35fccf1row0_col0\" class=\"data row0 col0\" >113</td>\n",
       "                        <td id=\"T_b103d94e_e998_11ea_bc96_38f9d35fccf1row0_col1\" class=\"data row0 col1\" >$3.20</td>\n",
       "                        <td id=\"T_b103d94e_e998_11ea_bc96_38f9d35fccf1row0_col2\" class=\"data row0 col2\" >$361.94</td>\n",
       "                        <td id=\"T_b103d94e_e998_11ea_bc96_38f9d35fccf1row0_col3\" class=\"data row0 col3\" >$4.47</td>\n",
       "            </tr>\n",
       "            <tr>\n",
       "                        <th id=\"T_b103d94e_e998_11ea_bc96_38f9d35fccf1level0_row1\" class=\"row_heading level0 row1\" >Male</th>\n",
       "                        <td id=\"T_b103d94e_e998_11ea_bc96_38f9d35fccf1row1_col0\" class=\"data row1 col0\" >652</td>\n",
       "                        <td id=\"T_b103d94e_e998_11ea_bc96_38f9d35fccf1row1_col1\" class=\"data row1 col1\" >$3.02</td>\n",
       "                        <td id=\"T_b103d94e_e998_11ea_bc96_38f9d35fccf1row1_col2\" class=\"data row1 col2\" >$1,967.64</td>\n",
       "                        <td id=\"T_b103d94e_e998_11ea_bc96_38f9d35fccf1row1_col3\" class=\"data row1 col3\" >$4.07</td>\n",
       "            </tr>\n",
       "            <tr>\n",
       "                        <th id=\"T_b103d94e_e998_11ea_bc96_38f9d35fccf1level0_row2\" class=\"row_heading level0 row2\" >Other / Non-Disclosed</th>\n",
       "                        <td id=\"T_b103d94e_e998_11ea_bc96_38f9d35fccf1row2_col0\" class=\"data row2 col0\" >15</td>\n",
       "                        <td id=\"T_b103d94e_e998_11ea_bc96_38f9d35fccf1row2_col1\" class=\"data row2 col1\" >$3.35</td>\n",
       "                        <td id=\"T_b103d94e_e998_11ea_bc96_38f9d35fccf1row2_col2\" class=\"data row2 col2\" >$50.19</td>\n",
       "                        <td id=\"T_b103d94e_e998_11ea_bc96_38f9d35fccf1row2_col3\" class=\"data row2 col3\" >$4.56</td>\n",
       "            </tr>\n",
       "    </tbody></table>"
      ],
      "text/plain": [
       "<pandas.io.formats.style.Styler at 0x7fa0472e58e0>"
      ]
     },
     "execution_count": 7,
     "metadata": {},
     "output_type": "execute_result"
    }
   ],
   "source": [
    "#* Purchase Count(Total)\n",
    "purchasing = demographics[\"Purchase ID\"].count()\n",
    "\n",
    "#* Average Purchase Price\n",
    "average_purchasing_amount = demographics[\"Price\"].mean()\n",
    "\n",
    "#* Average Purchase Price\n",
    "average_purchasing_sum = demographics[\"Price\"].sum()\n",
    "\n",
    "# Average purchase by individual\n",
    "average_individual = average_purchasing_sum/demographics_count_gender\n",
    "\n",
    "# using DataFrame\n",
    "demographics = pd.DataFrame({\"Purchase Count\": purchasing,\"Average Purchase Price\": average_purchasing_amount,\"Average Purchase Value\":average_purchasing_sum,\"Avg Purchase Total per Person\": average_individual})\n",
    "\n",
    "# Provide calculation\"Gender\"\n",
    "demographics.index.name = \"Gender\"\n",
    "\n",
    "# Format with currency with dollar sign 2 decimal\n",
    "demographics.style.format({\"Average Purchase Value\":\"${:,.2f}\",\"Average Purchase Price\":\"${:,.2f}\",\"Avg Purchase Total per Person\":\"${:,.2f}\"})"
   ]
  },
  {
   "cell_type": "markdown",
   "metadata": {},
   "source": [
    "## Age Demographics"
   ]
  },
  {
   "cell_type": "markdown",
   "metadata": {},
   "source": [
    "* Establish bins for ages\n",
    "\n",
    "\n",
    "* Categorize the existing players using the age bins. Hint: use pd.cut()\n",
    "\n",
    "\n",
    "* Calculate the numbers and percentages by age group\n",
    "\n",
    "\n",
    "* Create a summary data frame to hold the results\n",
    "\n",
    "\n",
    "* Optional: round the percentage column to two decimal points\n",
    "\n",
    "\n",
    "* Display Age Demographics Table\n"
   ]
  },
  {
   "cell_type": "code",
   "execution_count": 8,
   "metadata": {},
   "outputs": [
    {
     "data": {
      "text/html": [
       "<style  type=\"text/css\" >\n",
       "</style><table id=\"T_02cf3a3e_e999_11ea_bc96_38f9d35fccf1\" ><thead>    <tr>        <th class=\"blank level0\" ></th>        <th class=\"col_heading level0 col0\" >Total Count</th>        <th class=\"col_heading level0 col1\" >Percentage of Players</th>    </tr></thead><tbody>\n",
       "                <tr>\n",
       "                        <th id=\"T_02cf3a3e_e999_11ea_bc96_38f9d35fccf1level0_row0\" class=\"row_heading level0 row0\" ><10</th>\n",
       "                        <td id=\"T_02cf3a3e_e999_11ea_bc96_38f9d35fccf1row0_col0\" class=\"data row0 col0\" >17</td>\n",
       "                        <td id=\"T_02cf3a3e_e999_11ea_bc96_38f9d35fccf1row0_col1\" class=\"data row0 col1\" >2.95%</td>\n",
       "            </tr>\n",
       "            <tr>\n",
       "                        <th id=\"T_02cf3a3e_e999_11ea_bc96_38f9d35fccf1level0_row1\" class=\"row_heading level0 row1\" >10-14</th>\n",
       "                        <td id=\"T_02cf3a3e_e999_11ea_bc96_38f9d35fccf1row1_col0\" class=\"data row1 col0\" >22</td>\n",
       "                        <td id=\"T_02cf3a3e_e999_11ea_bc96_38f9d35fccf1row1_col1\" class=\"data row1 col1\" >3.82%</td>\n",
       "            </tr>\n",
       "            <tr>\n",
       "                        <th id=\"T_02cf3a3e_e999_11ea_bc96_38f9d35fccf1level0_row2\" class=\"row_heading level0 row2\" >15-19</th>\n",
       "                        <td id=\"T_02cf3a3e_e999_11ea_bc96_38f9d35fccf1row2_col0\" class=\"data row2 col0\" >107</td>\n",
       "                        <td id=\"T_02cf3a3e_e999_11ea_bc96_38f9d35fccf1row2_col1\" class=\"data row2 col1\" >18.58%</td>\n",
       "            </tr>\n",
       "            <tr>\n",
       "                        <th id=\"T_02cf3a3e_e999_11ea_bc96_38f9d35fccf1level0_row3\" class=\"row_heading level0 row3\" >20-24</th>\n",
       "                        <td id=\"T_02cf3a3e_e999_11ea_bc96_38f9d35fccf1row3_col0\" class=\"data row3 col0\" >258</td>\n",
       "                        <td id=\"T_02cf3a3e_e999_11ea_bc96_38f9d35fccf1row3_col1\" class=\"data row3 col1\" >44.79%</td>\n",
       "            </tr>\n",
       "            <tr>\n",
       "                        <th id=\"T_02cf3a3e_e999_11ea_bc96_38f9d35fccf1level0_row4\" class=\"row_heading level0 row4\" >25-29</th>\n",
       "                        <td id=\"T_02cf3a3e_e999_11ea_bc96_38f9d35fccf1row4_col0\" class=\"data row4 col0\" >77</td>\n",
       "                        <td id=\"T_02cf3a3e_e999_11ea_bc96_38f9d35fccf1row4_col1\" class=\"data row4 col1\" >13.37%</td>\n",
       "            </tr>\n",
       "            <tr>\n",
       "                        <th id=\"T_02cf3a3e_e999_11ea_bc96_38f9d35fccf1level0_row5\" class=\"row_heading level0 row5\" >30-34</th>\n",
       "                        <td id=\"T_02cf3a3e_e999_11ea_bc96_38f9d35fccf1row5_col0\" class=\"data row5 col0\" >52</td>\n",
       "                        <td id=\"T_02cf3a3e_e999_11ea_bc96_38f9d35fccf1row5_col1\" class=\"data row5 col1\" >9.03%</td>\n",
       "            </tr>\n",
       "            <tr>\n",
       "                        <th id=\"T_02cf3a3e_e999_11ea_bc96_38f9d35fccf1level0_row6\" class=\"row_heading level0 row6\" >35-39</th>\n",
       "                        <td id=\"T_02cf3a3e_e999_11ea_bc96_38f9d35fccf1row6_col0\" class=\"data row6 col0\" >31</td>\n",
       "                        <td id=\"T_02cf3a3e_e999_11ea_bc96_38f9d35fccf1row6_col1\" class=\"data row6 col1\" >5.38%</td>\n",
       "            </tr>\n",
       "            <tr>\n",
       "                        <th id=\"T_02cf3a3e_e999_11ea_bc96_38f9d35fccf1level0_row7\" class=\"row_heading level0 row7\" >40+</th>\n",
       "                        <td id=\"T_02cf3a3e_e999_11ea_bc96_38f9d35fccf1row7_col0\" class=\"data row7 col0\" >12</td>\n",
       "                        <td id=\"T_02cf3a3e_e999_11ea_bc96_38f9d35fccf1row7_col1\" class=\"data row7 col1\" >2.08%</td>\n",
       "            </tr>\n",
       "    </tbody></table>"
      ],
      "text/plain": [
       "<pandas.io.formats.style.Styler at 0x7fa0472e5700>"
      ]
     },
     "execution_count": 8,
     "metadata": {},
     "output_type": "execute_result"
    }
   ],
   "source": [
    "#* The below each broken into bins of 4 years (i.e. &lt;10, 10-14, 15-19, etc.)\n",
    "  #* Purchase Count\n",
    "  #* Average Purchase Price\n",
    "  #* Total Purchase Value\n",
    "  #* Average Purchase Total per Person by Age Group\n",
    "\n",
    "bins_age = ([0, 9.90, 14.90, 19.90, 24.90, 29.90, 34.90, 39.90, 99999])\n",
    "group_names = ([\"<10\", \n",
    "                \"10-14\", \n",
    "                \"15-19\", \n",
    "                \"20-24\", \n",
    "                \"25-29\", \n",
    "                \"30-34\", \n",
    "                \"35-39\", \n",
    "                \"40+\"])\n",
    "\n",
    "# Segment and sort age values into bins established above\n",
    "purchase_data[\"Age Group\"] = pd.cut(purchase_data[\"Age\"], bins_age, labels = group_names)\n",
    "purchase_data\n",
    "\n",
    "# Create new data frame with the added \"Age Group\" and group it\n",
    "grouped_age = purchase_data.groupby(\"Age Group\")\n",
    "\n",
    "# Count total players by age category\n",
    "total_count_age = grouped_age[\"SN\"].nunique()\n",
    "\n",
    "# Calculate the numbers and percentages by age group\n",
    "percentage_by_age = (total_count_age/total_number_of_player) * 100\n",
    "\n",
    "# Using Data frame.\n",
    "demographics_by_age = pd.DataFrame({\"Total Count\": total_count_age,\"Percentage of Players\": percentage_by_age})\n",
    "\n",
    "# Format with currency with dollar sign 2 decimal\n",
    "demographics_by_age.index.name = None\n",
    "demographics_by_age.style.format({\"Percentage of Players\":\"{:,.2f}%\"})\n",
    "\n"
   ]
  },
  {
   "cell_type": "markdown",
   "metadata": {},
   "source": [
    "## Purchasing Analysis (Age)"
   ]
  },
  {
   "cell_type": "markdown",
   "metadata": {},
   "source": [
    "* Bin the purchase_data data frame by age\n",
    "\n",
    "\n",
    "* Run basic calculations to obtain purchase count, avg. purchase price, avg. purchase total per person etc. in the table below\n",
    "\n",
    "\n",
    "* Create a summary data frame to hold the results\n",
    "\n",
    "\n",
    "* Optional: give the displayed data cleaner formatting\n",
    "\n",
    "\n",
    "* Display the summary data frame"
   ]
  },
  {
   "cell_type": "code",
   "execution_count": 9,
   "metadata": {},
   "outputs": [
    {
     "data": {
      "text/html": [
       "<style  type=\"text/css\" >\n",
       "</style><table id=\"T_49531afc_e999_11ea_bc96_38f9d35fccf1\" ><thead>    <tr>        <th class=\"blank level0\" ></th>        <th class=\"col_heading level0 col0\" >Purchase Count</th>        <th class=\"col_heading level0 col1\" >Average Purchase Price</th>        <th class=\"col_heading level0 col2\" >Total Purchase Value</th>        <th class=\"col_heading level0 col3\" >Average Purchase Total per Person</th>    </tr>    <tr>        <th class=\"index_name level0\" >Age Ranges</th>        <th class=\"blank\" ></th>        <th class=\"blank\" ></th>        <th class=\"blank\" ></th>        <th class=\"blank\" ></th>    </tr></thead><tbody>\n",
       "                <tr>\n",
       "                        <th id=\"T_49531afc_e999_11ea_bc96_38f9d35fccf1level0_row0\" class=\"row_heading level0 row0\" ><10</th>\n",
       "                        <td id=\"T_49531afc_e999_11ea_bc96_38f9d35fccf1row0_col0\" class=\"data row0 col0\" >23</td>\n",
       "                        <td id=\"T_49531afc_e999_11ea_bc96_38f9d35fccf1row0_col1\" class=\"data row0 col1\" >$3.35</td>\n",
       "                        <td id=\"T_49531afc_e999_11ea_bc96_38f9d35fccf1row0_col2\" class=\"data row0 col2\" >$77.13</td>\n",
       "                        <td id=\"T_49531afc_e999_11ea_bc96_38f9d35fccf1row0_col3\" class=\"data row0 col3\" >$4.54</td>\n",
       "            </tr>\n",
       "            <tr>\n",
       "                        <th id=\"T_49531afc_e999_11ea_bc96_38f9d35fccf1level0_row1\" class=\"row_heading level0 row1\" >10-14</th>\n",
       "                        <td id=\"T_49531afc_e999_11ea_bc96_38f9d35fccf1row1_col0\" class=\"data row1 col0\" >28</td>\n",
       "                        <td id=\"T_49531afc_e999_11ea_bc96_38f9d35fccf1row1_col1\" class=\"data row1 col1\" >$2.96</td>\n",
       "                        <td id=\"T_49531afc_e999_11ea_bc96_38f9d35fccf1row1_col2\" class=\"data row1 col2\" >$82.78</td>\n",
       "                        <td id=\"T_49531afc_e999_11ea_bc96_38f9d35fccf1row1_col3\" class=\"data row1 col3\" >$3.76</td>\n",
       "            </tr>\n",
       "            <tr>\n",
       "                        <th id=\"T_49531afc_e999_11ea_bc96_38f9d35fccf1level0_row2\" class=\"row_heading level0 row2\" >15-19</th>\n",
       "                        <td id=\"T_49531afc_e999_11ea_bc96_38f9d35fccf1row2_col0\" class=\"data row2 col0\" >136</td>\n",
       "                        <td id=\"T_49531afc_e999_11ea_bc96_38f9d35fccf1row2_col1\" class=\"data row2 col1\" >$3.04</td>\n",
       "                        <td id=\"T_49531afc_e999_11ea_bc96_38f9d35fccf1row2_col2\" class=\"data row2 col2\" >$412.89</td>\n",
       "                        <td id=\"T_49531afc_e999_11ea_bc96_38f9d35fccf1row2_col3\" class=\"data row2 col3\" >$3.86</td>\n",
       "            </tr>\n",
       "            <tr>\n",
       "                        <th id=\"T_49531afc_e999_11ea_bc96_38f9d35fccf1level0_row3\" class=\"row_heading level0 row3\" >20-24</th>\n",
       "                        <td id=\"T_49531afc_e999_11ea_bc96_38f9d35fccf1row3_col0\" class=\"data row3 col0\" >365</td>\n",
       "                        <td id=\"T_49531afc_e999_11ea_bc96_38f9d35fccf1row3_col1\" class=\"data row3 col1\" >$3.05</td>\n",
       "                        <td id=\"T_49531afc_e999_11ea_bc96_38f9d35fccf1row3_col2\" class=\"data row3 col2\" >$1,114.06</td>\n",
       "                        <td id=\"T_49531afc_e999_11ea_bc96_38f9d35fccf1row3_col3\" class=\"data row3 col3\" >$4.32</td>\n",
       "            </tr>\n",
       "            <tr>\n",
       "                        <th id=\"T_49531afc_e999_11ea_bc96_38f9d35fccf1level0_row4\" class=\"row_heading level0 row4\" >25-29</th>\n",
       "                        <td id=\"T_49531afc_e999_11ea_bc96_38f9d35fccf1row4_col0\" class=\"data row4 col0\" >101</td>\n",
       "                        <td id=\"T_49531afc_e999_11ea_bc96_38f9d35fccf1row4_col1\" class=\"data row4 col1\" >$2.90</td>\n",
       "                        <td id=\"T_49531afc_e999_11ea_bc96_38f9d35fccf1row4_col2\" class=\"data row4 col2\" >$293.00</td>\n",
       "                        <td id=\"T_49531afc_e999_11ea_bc96_38f9d35fccf1row4_col3\" class=\"data row4 col3\" >$3.81</td>\n",
       "            </tr>\n",
       "            <tr>\n",
       "                        <th id=\"T_49531afc_e999_11ea_bc96_38f9d35fccf1level0_row5\" class=\"row_heading level0 row5\" >30-34</th>\n",
       "                        <td id=\"T_49531afc_e999_11ea_bc96_38f9d35fccf1row5_col0\" class=\"data row5 col0\" >73</td>\n",
       "                        <td id=\"T_49531afc_e999_11ea_bc96_38f9d35fccf1row5_col1\" class=\"data row5 col1\" >$2.93</td>\n",
       "                        <td id=\"T_49531afc_e999_11ea_bc96_38f9d35fccf1row5_col2\" class=\"data row5 col2\" >$214.00</td>\n",
       "                        <td id=\"T_49531afc_e999_11ea_bc96_38f9d35fccf1row5_col3\" class=\"data row5 col3\" >$4.12</td>\n",
       "            </tr>\n",
       "            <tr>\n",
       "                        <th id=\"T_49531afc_e999_11ea_bc96_38f9d35fccf1level0_row6\" class=\"row_heading level0 row6\" >35-39</th>\n",
       "                        <td id=\"T_49531afc_e999_11ea_bc96_38f9d35fccf1row6_col0\" class=\"data row6 col0\" >41</td>\n",
       "                        <td id=\"T_49531afc_e999_11ea_bc96_38f9d35fccf1row6_col1\" class=\"data row6 col1\" >$3.60</td>\n",
       "                        <td id=\"T_49531afc_e999_11ea_bc96_38f9d35fccf1row6_col2\" class=\"data row6 col2\" >$147.67</td>\n",
       "                        <td id=\"T_49531afc_e999_11ea_bc96_38f9d35fccf1row6_col3\" class=\"data row6 col3\" >$4.76</td>\n",
       "            </tr>\n",
       "            <tr>\n",
       "                        <th id=\"T_49531afc_e999_11ea_bc96_38f9d35fccf1level0_row7\" class=\"row_heading level0 row7\" >40+</th>\n",
       "                        <td id=\"T_49531afc_e999_11ea_bc96_38f9d35fccf1row7_col0\" class=\"data row7 col0\" >13</td>\n",
       "                        <td id=\"T_49531afc_e999_11ea_bc96_38f9d35fccf1row7_col1\" class=\"data row7 col1\" >$2.94</td>\n",
       "                        <td id=\"T_49531afc_e999_11ea_bc96_38f9d35fccf1row7_col2\" class=\"data row7 col2\" >$38.24</td>\n",
       "                        <td id=\"T_49531afc_e999_11ea_bc96_38f9d35fccf1row7_col3\" class=\"data row7 col3\" >$3.19</td>\n",
       "            </tr>\n",
       "    </tbody></table>"
      ],
      "text/plain": [
       "<pandas.io.formats.style.Styler at 0x7fa048805fd0>"
      ]
     },
     "execution_count": 9,
     "metadata": {},
     "output_type": "execute_result"
    }
   ],
   "source": [
    "#* The below each broken by gender\n",
    "  #* Purchase Count\n",
    "  #* Average Purchase Price\n",
    "  #* Total Purchase Value\n",
    "  #* Average Purchase Total per Person by Gender\n",
    "\n",
    "#Purchase Count\n",
    "age_purchase_count = grouped_age[\"Purchase ID\"].count()\n",
    "average_purchase_price = grouped_age[\"Price\"].mean()\n",
    "sum_purchase = grouped_age[\"Price\"].sum()\n",
    "\n",
    "# average purchase per person in the age group \n",
    "average_purchase_group = sum_purchase/total_count_age\n",
    "\n",
    "# Create data frame with obtained values\n",
    "demographics_by_age = pd.DataFrame({\"Purchase Count\": age_purchase_count,\"Average Purchase Price\": average_purchase_price,\"Total Purchase Value\":sum_purchase,\"Average Purchase Total per Person\": average_purchase_group})\n",
    "\n",
    "# Format the data frame with to give index name Age Ranges\n",
    "demographics_by_age.index.name = 'Age Ranges'\n",
    "\n",
    "# Format with currency with dollar sign 2 decimal\n",
    "demographics_by_age.style.format({\"Average Purchase Price\":\"${:,.2f}\",\"Total Purchase Value\":\"${:,.2f}\",\"Average Purchase Total per Person\":\"${:,.2f}\"})\n"
   ]
  },
  {
   "cell_type": "markdown",
   "metadata": {},
   "source": [
    "## Top Spenders"
   ]
  },
  {
   "cell_type": "markdown",
   "metadata": {},
   "source": [
    "* Run basic calculations to obtain the results in the table below\n",
    "\n",
    "\n",
    "* Create a summary data frame to hold the results\n",
    "\n",
    "\n",
    "* Sort the total purchase value column in descending order\n",
    "\n",
    "\n",
    "* Optional: give the displayed data cleaner formatting\n",
    "\n",
    "\n",
    "* Display a preview of the summary data frame\n",
    "\n"
   ]
  },
  {
   "cell_type": "code",
   "execution_count": 11,
   "metadata": {},
   "outputs": [
    {
     "data": {
      "text/html": [
       "<style  type=\"text/css\" >\n",
       "</style><table id=\"T_59e785a0_e99a_11ea_bc96_38f9d35fccf1\" ><thead>    <tr>        <th class=\"blank level0\" ></th>        <th class=\"col_heading level0 col0\" >Purchase Count</th>        <th class=\"col_heading level0 col1\" >Average Purchase Price</th>        <th class=\"col_heading level0 col2\" >Total Purchase Value</th>    </tr>    <tr>        <th class=\"index_name level0\" >SN</th>        <th class=\"blank\" ></th>        <th class=\"blank\" ></th>        <th class=\"blank\" ></th>    </tr></thead><tbody>\n",
       "                <tr>\n",
       "                        <th id=\"T_59e785a0_e99a_11ea_bc96_38f9d35fccf1level0_row0\" class=\"row_heading level0 row0\" >Lisosia93</th>\n",
       "                        <td id=\"T_59e785a0_e99a_11ea_bc96_38f9d35fccf1row0_col0\" class=\"data row0 col0\" >5</td>\n",
       "                        <td id=\"T_59e785a0_e99a_11ea_bc96_38f9d35fccf1row0_col1\" class=\"data row0 col1\" >$3.79</td>\n",
       "                        <td id=\"T_59e785a0_e99a_11ea_bc96_38f9d35fccf1row0_col2\" class=\"data row0 col2\" >$18.96</td>\n",
       "            </tr>\n",
       "            <tr>\n",
       "                        <th id=\"T_59e785a0_e99a_11ea_bc96_38f9d35fccf1level0_row1\" class=\"row_heading level0 row1\" >Idastidru52</th>\n",
       "                        <td id=\"T_59e785a0_e99a_11ea_bc96_38f9d35fccf1row1_col0\" class=\"data row1 col0\" >4</td>\n",
       "                        <td id=\"T_59e785a0_e99a_11ea_bc96_38f9d35fccf1row1_col1\" class=\"data row1 col1\" >$3.86</td>\n",
       "                        <td id=\"T_59e785a0_e99a_11ea_bc96_38f9d35fccf1row1_col2\" class=\"data row1 col2\" >$15.45</td>\n",
       "            </tr>\n",
       "            <tr>\n",
       "                        <th id=\"T_59e785a0_e99a_11ea_bc96_38f9d35fccf1level0_row2\" class=\"row_heading level0 row2\" >Chamjask73</th>\n",
       "                        <td id=\"T_59e785a0_e99a_11ea_bc96_38f9d35fccf1row2_col0\" class=\"data row2 col0\" >3</td>\n",
       "                        <td id=\"T_59e785a0_e99a_11ea_bc96_38f9d35fccf1row2_col1\" class=\"data row2 col1\" >$4.61</td>\n",
       "                        <td id=\"T_59e785a0_e99a_11ea_bc96_38f9d35fccf1row2_col2\" class=\"data row2 col2\" >$13.83</td>\n",
       "            </tr>\n",
       "            <tr>\n",
       "                        <th id=\"T_59e785a0_e99a_11ea_bc96_38f9d35fccf1level0_row3\" class=\"row_heading level0 row3\" >Iral74</th>\n",
       "                        <td id=\"T_59e785a0_e99a_11ea_bc96_38f9d35fccf1row3_col0\" class=\"data row3 col0\" >4</td>\n",
       "                        <td id=\"T_59e785a0_e99a_11ea_bc96_38f9d35fccf1row3_col1\" class=\"data row3 col1\" >$3.40</td>\n",
       "                        <td id=\"T_59e785a0_e99a_11ea_bc96_38f9d35fccf1row3_col2\" class=\"data row3 col2\" >$13.62</td>\n",
       "            </tr>\n",
       "            <tr>\n",
       "                        <th id=\"T_59e785a0_e99a_11ea_bc96_38f9d35fccf1level0_row4\" class=\"row_heading level0 row4\" >Iskadarya95</th>\n",
       "                        <td id=\"T_59e785a0_e99a_11ea_bc96_38f9d35fccf1row4_col0\" class=\"data row4 col0\" >3</td>\n",
       "                        <td id=\"T_59e785a0_e99a_11ea_bc96_38f9d35fccf1row4_col1\" class=\"data row4 col1\" >$4.37</td>\n",
       "                        <td id=\"T_59e785a0_e99a_11ea_bc96_38f9d35fccf1row4_col2\" class=\"data row4 col2\" >$13.10</td>\n",
       "            </tr>\n",
       "    </tbody></table>"
      ],
      "text/plain": [
       "<pandas.io.formats.style.Styler at 0x7fa04881e160>"
      ]
     },
     "execution_count": 11,
     "metadata": {},
     "output_type": "execute_result"
    }
   ],
   "source": [
    "#* Identify the the top 5 spenders in the game by total purchase value, then list (in a table):\n",
    "  #* SN\n",
    "  #* Purchase Count\n",
    "  #* Average Purchase Price\n",
    "  #* Total Purchase Value\n",
    "    \n",
    "# Group purchase data by SN(Screen name)\n",
    "top_spender = purchase_data.groupby(\"SN\")\n",
    "\n",
    "# Count the total purchases by name\n",
    "count_spender = top_spender[\"Purchase ID\"].count()\n",
    "\n",
    "# Calculate the average purchase by name \n",
    "average_price_spender = top_spender[\"Price\"].mean()\n",
    "\n",
    "# Calculate purchase  \n",
    "sum_spender = top_spender[\"Price\"].sum()\n",
    "\n",
    "# Create data frame with obtained values\n",
    "top_spenders = pd.DataFrame({\"Purchase Count\": count_spender,\"Average Purchase Price\": average_price_spender,\"Total Purchase Value\":sum_spender})\n",
    "\n",
    "# filter in descending order to obtain top 5 spender\n",
    "formatted_spenders = top_spenders.sort_values([\"Total Purchase Value\"], ascending = False).head()\n",
    "\n",
    "# Format with currency with dollar sign 2 decimal\n",
    "formatted_spenders.style.format({\"Average Purchase Price\":\"${:,.2f}\",\"Total Purchase Value\":\"${:,.2f}\"})"
   ]
  },
  {
   "cell_type": "markdown",
   "metadata": {},
   "source": [
    "## Most Popular Items"
   ]
  },
  {
   "cell_type": "markdown",
   "metadata": {},
   "source": [
    "* Retrieve the Item ID, Item Name, and Item Price columns\n",
    "\n",
    "\n",
    "* Group by Item ID and Item Name. Perform calculations to obtain purchase count, item price, and total purchase value\n",
    "\n",
    "\n",
    "* Create a summary data frame to hold the results\n",
    "\n",
    "\n",
    "* Sort the purchase count column in descending order\n",
    "\n",
    "\n",
    "* Optional: give the displayed data cleaner formatting\n",
    "\n",
    "\n",
    "* Display a preview of the summary data frame\n",
    "\n"
   ]
  },
  {
   "cell_type": "code",
   "execution_count": 12,
   "metadata": {},
   "outputs": [
    {
     "data": {
      "text/html": [
       "<style  type=\"text/css\" >\n",
       "</style><table id=\"T_99096186_e99a_11ea_bc96_38f9d35fccf1\" ><thead>    <tr>        <th class=\"blank\" ></th>        <th class=\"blank level0\" ></th>        <th class=\"col_heading level0 col0\" >Purchase Count</th>        <th class=\"col_heading level0 col1\" >Item Price</th>        <th class=\"col_heading level0 col2\" >Total Purchase Value</th>    </tr>    <tr>        <th class=\"index_name level0\" >Item ID</th>        <th class=\"index_name level1\" >Item Name</th>        <th class=\"blank\" ></th>        <th class=\"blank\" ></th>        <th class=\"blank\" ></th>    </tr></thead><tbody>\n",
       "                <tr>\n",
       "                        <th id=\"T_99096186_e99a_11ea_bc96_38f9d35fccf1level0_row0\" class=\"row_heading level0 row0\" >92</th>\n",
       "                        <th id=\"T_99096186_e99a_11ea_bc96_38f9d35fccf1level1_row0\" class=\"row_heading level1 row0\" >Final Critic</th>\n",
       "                        <td id=\"T_99096186_e99a_11ea_bc96_38f9d35fccf1row0_col0\" class=\"data row0 col0\" >13</td>\n",
       "                        <td id=\"T_99096186_e99a_11ea_bc96_38f9d35fccf1row0_col1\" class=\"data row0 col1\" >$4.61</td>\n",
       "                        <td id=\"T_99096186_e99a_11ea_bc96_38f9d35fccf1row0_col2\" class=\"data row0 col2\" >$59.99</td>\n",
       "            </tr>\n",
       "            <tr>\n",
       "                        <th id=\"T_99096186_e99a_11ea_bc96_38f9d35fccf1level0_row1\" class=\"row_heading level0 row1\" >178</th>\n",
       "                        <th id=\"T_99096186_e99a_11ea_bc96_38f9d35fccf1level1_row1\" class=\"row_heading level1 row1\" >Oathbreaker, Last Hope of the Breaking Storm</th>\n",
       "                        <td id=\"T_99096186_e99a_11ea_bc96_38f9d35fccf1row1_col0\" class=\"data row1 col0\" >12</td>\n",
       "                        <td id=\"T_99096186_e99a_11ea_bc96_38f9d35fccf1row1_col1\" class=\"data row1 col1\" >$4.23</td>\n",
       "                        <td id=\"T_99096186_e99a_11ea_bc96_38f9d35fccf1row1_col2\" class=\"data row1 col2\" >$50.76</td>\n",
       "            </tr>\n",
       "            <tr>\n",
       "                        <th id=\"T_99096186_e99a_11ea_bc96_38f9d35fccf1level0_row2\" class=\"row_heading level0 row2\" >145</th>\n",
       "                        <th id=\"T_99096186_e99a_11ea_bc96_38f9d35fccf1level1_row2\" class=\"row_heading level1 row2\" >Fiery Glass Crusader</th>\n",
       "                        <td id=\"T_99096186_e99a_11ea_bc96_38f9d35fccf1row2_col0\" class=\"data row2 col0\" >9</td>\n",
       "                        <td id=\"T_99096186_e99a_11ea_bc96_38f9d35fccf1row2_col1\" class=\"data row2 col1\" >$4.58</td>\n",
       "                        <td id=\"T_99096186_e99a_11ea_bc96_38f9d35fccf1row2_col2\" class=\"data row2 col2\" >$41.22</td>\n",
       "            </tr>\n",
       "            <tr>\n",
       "                        <th id=\"T_99096186_e99a_11ea_bc96_38f9d35fccf1level0_row3\" class=\"row_heading level0 row3\" >132</th>\n",
       "                        <th id=\"T_99096186_e99a_11ea_bc96_38f9d35fccf1level1_row3\" class=\"row_heading level1 row3\" >Persuasion</th>\n",
       "                        <td id=\"T_99096186_e99a_11ea_bc96_38f9d35fccf1row3_col0\" class=\"data row3 col0\" >9</td>\n",
       "                        <td id=\"T_99096186_e99a_11ea_bc96_38f9d35fccf1row3_col1\" class=\"data row3 col1\" >$3.22</td>\n",
       "                        <td id=\"T_99096186_e99a_11ea_bc96_38f9d35fccf1row3_col2\" class=\"data row3 col2\" >$28.99</td>\n",
       "            </tr>\n",
       "            <tr>\n",
       "                        <th id=\"T_99096186_e99a_11ea_bc96_38f9d35fccf1level0_row4\" class=\"row_heading level0 row4\" >108</th>\n",
       "                        <th id=\"T_99096186_e99a_11ea_bc96_38f9d35fccf1level1_row4\" class=\"row_heading level1 row4\" >Extraction, Quickblade Of Trembling Hands</th>\n",
       "                        <td id=\"T_99096186_e99a_11ea_bc96_38f9d35fccf1row4_col0\" class=\"data row4 col0\" >9</td>\n",
       "                        <td id=\"T_99096186_e99a_11ea_bc96_38f9d35fccf1row4_col1\" class=\"data row4 col1\" >$3.53</td>\n",
       "                        <td id=\"T_99096186_e99a_11ea_bc96_38f9d35fccf1row4_col2\" class=\"data row4 col2\" >$31.77</td>\n",
       "            </tr>\n",
       "    </tbody></table>"
      ],
      "text/plain": [
       "<pandas.io.formats.style.Styler at 0x7fa0472e5af0>"
      ]
     },
     "execution_count": 12,
     "metadata": {},
     "output_type": "execute_result"
    }
   ],
   "source": [
    "#* Identify the 5 most popular items by purchase count, then list (in a table):\n",
    "  #* Item ID\n",
    "  #* Item Name\n",
    "  #* Purchase Count\n",
    "  #* Item Price\n",
    "  #* Total Purchase Value\n",
    "    \n",
    "\n",
    "#get the item id,item name,price (DataFrame) \n",
    "most_items_df = purchase_data[[\"Item ID\", \"Item Name\", \"Price\"]]\n",
    "most_item_stats = most_items_df.groupby([\"Item ID\",\"Item Name\"])\n",
    "\n",
    "#write the result to two columns\n",
    "most_purchase_count_item = most_item_stats[\"Price\"].count()\n",
    "Total_purchase_value = (most_item_stats[\"Price\"].sum())\n",
    "\n",
    "# Find individual item price\n",
    "item_price = Total_purchase_value/most_purchase_count_item\n",
    "\n",
    "\n",
    "# Create data frame with obtained values\n",
    "most_popular_items = pd.DataFrame({\"Purchase Count\": most_purchase_count_item,\"Item Price\": item_price,\"Total Purchase Value\":Total_purchase_value})\n",
    "\n",
    "# Sort in descending order to obtain top spender names and provide top 5 item names\n",
    "popular_formatted = most_popular_items.sort_values([\"Purchase Count\"], ascending=False).head()\n",
    "\n",
    "# Format with currency with dollar sign 2 decimal\n",
    "popular_formatted.style.format({\"Item Price\":\"${:,.2f}\",\"Total Purchase Value\":\"${:,.2f}\"})"
   ]
  },
  {
   "cell_type": "markdown",
   "metadata": {},
   "source": [
    "## Most Profitable Items"
   ]
  },
  {
   "cell_type": "markdown",
   "metadata": {},
   "source": [
    "* Sort the above table by total purchase value in descending order\n",
    "\n",
    "\n",
    "* Optional: give the displayed data cleaner formatting\n",
    "\n",
    "\n",
    "* Display a preview of the data frame\n",
    "\n"
   ]
  },
  {
   "cell_type": "code",
   "execution_count": 13,
   "metadata": {
    "scrolled": true
   },
   "outputs": [
    {
     "data": {
      "text/html": [
       "<style  type=\"text/css\" >\n",
       "</style><table id=\"T_b2d11226_e99a_11ea_bc96_38f9d35fccf1\" ><thead>    <tr>        <th class=\"blank\" ></th>        <th class=\"blank level0\" ></th>        <th class=\"col_heading level0 col0\" >Purchase Count</th>        <th class=\"col_heading level0 col1\" >Item Price</th>        <th class=\"col_heading level0 col2\" >Total Purchase Value</th>    </tr>    <tr>        <th class=\"index_name level0\" >Item ID</th>        <th class=\"index_name level1\" >Item Name</th>        <th class=\"blank\" ></th>        <th class=\"blank\" ></th>        <th class=\"blank\" ></th>    </tr></thead><tbody>\n",
       "                <tr>\n",
       "                        <th id=\"T_b2d11226_e99a_11ea_bc96_38f9d35fccf1level0_row0\" class=\"row_heading level0 row0\" >92</th>\n",
       "                        <th id=\"T_b2d11226_e99a_11ea_bc96_38f9d35fccf1level1_row0\" class=\"row_heading level1 row0\" >Final Critic</th>\n",
       "                        <td id=\"T_b2d11226_e99a_11ea_bc96_38f9d35fccf1row0_col0\" class=\"data row0 col0\" >13</td>\n",
       "                        <td id=\"T_b2d11226_e99a_11ea_bc96_38f9d35fccf1row0_col1\" class=\"data row0 col1\" >$4.61</td>\n",
       "                        <td id=\"T_b2d11226_e99a_11ea_bc96_38f9d35fccf1row0_col2\" class=\"data row0 col2\" >$59.99</td>\n",
       "            </tr>\n",
       "            <tr>\n",
       "                        <th id=\"T_b2d11226_e99a_11ea_bc96_38f9d35fccf1level0_row1\" class=\"row_heading level0 row1\" >178</th>\n",
       "                        <th id=\"T_b2d11226_e99a_11ea_bc96_38f9d35fccf1level1_row1\" class=\"row_heading level1 row1\" >Oathbreaker, Last Hope of the Breaking Storm</th>\n",
       "                        <td id=\"T_b2d11226_e99a_11ea_bc96_38f9d35fccf1row1_col0\" class=\"data row1 col0\" >12</td>\n",
       "                        <td id=\"T_b2d11226_e99a_11ea_bc96_38f9d35fccf1row1_col1\" class=\"data row1 col1\" >$4.23</td>\n",
       "                        <td id=\"T_b2d11226_e99a_11ea_bc96_38f9d35fccf1row1_col2\" class=\"data row1 col2\" >$50.76</td>\n",
       "            </tr>\n",
       "            <tr>\n",
       "                        <th id=\"T_b2d11226_e99a_11ea_bc96_38f9d35fccf1level0_row2\" class=\"row_heading level0 row2\" >82</th>\n",
       "                        <th id=\"T_b2d11226_e99a_11ea_bc96_38f9d35fccf1level1_row2\" class=\"row_heading level1 row2\" >Nirvana</th>\n",
       "                        <td id=\"T_b2d11226_e99a_11ea_bc96_38f9d35fccf1row2_col0\" class=\"data row2 col0\" >9</td>\n",
       "                        <td id=\"T_b2d11226_e99a_11ea_bc96_38f9d35fccf1row2_col1\" class=\"data row2 col1\" >$4.90</td>\n",
       "                        <td id=\"T_b2d11226_e99a_11ea_bc96_38f9d35fccf1row2_col2\" class=\"data row2 col2\" >$44.10</td>\n",
       "            </tr>\n",
       "            <tr>\n",
       "                        <th id=\"T_b2d11226_e99a_11ea_bc96_38f9d35fccf1level0_row3\" class=\"row_heading level0 row3\" >145</th>\n",
       "                        <th id=\"T_b2d11226_e99a_11ea_bc96_38f9d35fccf1level1_row3\" class=\"row_heading level1 row3\" >Fiery Glass Crusader</th>\n",
       "                        <td id=\"T_b2d11226_e99a_11ea_bc96_38f9d35fccf1row3_col0\" class=\"data row3 col0\" >9</td>\n",
       "                        <td id=\"T_b2d11226_e99a_11ea_bc96_38f9d35fccf1row3_col1\" class=\"data row3 col1\" >$4.58</td>\n",
       "                        <td id=\"T_b2d11226_e99a_11ea_bc96_38f9d35fccf1row3_col2\" class=\"data row3 col2\" >$41.22</td>\n",
       "            </tr>\n",
       "            <tr>\n",
       "                        <th id=\"T_b2d11226_e99a_11ea_bc96_38f9d35fccf1level0_row4\" class=\"row_heading level0 row4\" >103</th>\n",
       "                        <th id=\"T_b2d11226_e99a_11ea_bc96_38f9d35fccf1level1_row4\" class=\"row_heading level1 row4\" >Singed Scalpel</th>\n",
       "                        <td id=\"T_b2d11226_e99a_11ea_bc96_38f9d35fccf1row4_col0\" class=\"data row4 col0\" >8</td>\n",
       "                        <td id=\"T_b2d11226_e99a_11ea_bc96_38f9d35fccf1row4_col1\" class=\"data row4 col1\" >$4.35</td>\n",
       "                        <td id=\"T_b2d11226_e99a_11ea_bc96_38f9d35fccf1row4_col2\" class=\"data row4 col2\" >$34.80</td>\n",
       "            </tr>\n",
       "    </tbody></table>"
      ],
      "text/plain": [
       "<pandas.io.formats.style.Styler at 0x7fa048805940>"
      ]
     },
     "execution_count": 13,
     "metadata": {},
     "output_type": "execute_result"
    }
   ],
   "source": [
    "#* Identify the 5 most profitable items by total purchase value, then list (in a table):\n",
    "  #* Item ID\n",
    "  #* Item Name\n",
    "  #* Purchase Count\n",
    "  #* Item Price\n",
    "  #* Total Purchase Value\n",
    "    \n",
    "   # Sort by most profitable (highest Total Purchase Value=most profitable) in descending order\n",
    "most_profitable_items_df = most_popular_items.sort_values(['Total Purchase Value'], ascending=False).head()\n",
    "\n",
    "# Format into $0.00 for price and total purchase value\n",
    "most_profitable_items_df.style.format({\"Item Price\":\"${:,.2f}\",\"Total Purchase Value\":\"${:,.2f}\"})"
   ]
  },
  {
   "cell_type": "code",
   "execution_count": null,
   "metadata": {},
   "outputs": [],
   "source": []
  }
 ],
 "metadata": {
  "anaconda-cloud": {},
  "kernel_info": {
   "name": "python3"
  },
  "kernelspec": {
   "display_name": "Python 3",
   "language": "python",
   "name": "python3"
  },
  "language_info": {
   "codemirror_mode": {
    "name": "ipython",
    "version": 3
   },
   "file_extension": ".py",
   "mimetype": "text/x-python",
   "name": "python",
   "nbconvert_exporter": "python",
   "pygments_lexer": "ipython3",
   "version": "3.8.3"
  },
  "latex_envs": {
   "LaTeX_envs_menu_present": true,
   "autoclose": false,
   "autocomplete": true,
   "bibliofile": "biblio.bib",
   "cite_by": "apalike",
   "current_citInitial": 1,
   "eqLabelWithNumbers": true,
   "eqNumInitial": 1,
   "hotkeys": {
    "equation": "Ctrl-E",
    "itemize": "Ctrl-I"
   },
   "labels_anchors": false,
   "latex_user_defs": false,
   "report_style_numbering": false,
   "user_envs_cfg": false
  },
  "nteract": {
   "version": "0.2.0"
  }
 },
 "nbformat": 4,
 "nbformat_minor": 2
}
